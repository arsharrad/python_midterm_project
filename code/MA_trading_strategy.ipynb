{
 "cells": [
  {
   "cell_type": "code",
   "execution_count": 82,
   "id": "2f5c1770-2888-490a-97ce-5fa6535c7694",
   "metadata": {},
   "outputs": [],
   "source": [
    "import pandas as pd\n",
    "import matplotlib.pyplot as plt\n",
    "%matplotlib inline"
   ]
  },
  {
   "cell_type": "code",
   "execution_count": 105,
   "id": "fa8399f0-5ab9-4595-bba8-34e1cc979b7b",
   "metadata": {},
   "outputs": [
    {
     "data": {
      "text/html": [
       "<div>\n",
       "<style scoped>\n",
       "    .dataframe tbody tr th:only-of-type {\n",
       "        vertical-align: middle;\n",
       "    }\n",
       "\n",
       "    .dataframe tbody tr th {\n",
       "        vertical-align: top;\n",
       "    }\n",
       "\n",
       "    .dataframe thead th {\n",
       "        text-align: right;\n",
       "    }\n",
       "</style>\n",
       "<table border=\"1\" class=\"dataframe\">\n",
       "  <thead>\n",
       "    <tr style=\"text-align: right;\">\n",
       "      <th></th>\n",
       "      <th>Open</th>\n",
       "      <th>High</th>\n",
       "      <th>Low</th>\n",
       "      <th>Close</th>\n",
       "      <th>Adj Close</th>\n",
       "      <th>Volume</th>\n",
       "      <th>MA7</th>\n",
       "      <th>MA40</th>\n",
       "    </tr>\n",
       "    <tr>\n",
       "      <th>Date</th>\n",
       "      <th></th>\n",
       "      <th></th>\n",
       "      <th></th>\n",
       "      <th></th>\n",
       "      <th></th>\n",
       "      <th></th>\n",
       "      <th></th>\n",
       "      <th></th>\n",
       "    </tr>\n",
       "  </thead>\n",
       "  <tbody>\n",
       "    <tr>\n",
       "      <th>2019-02-28</th>\n",
       "      <td>79.449997</td>\n",
       "      <td>79.750000</td>\n",
       "      <td>78.709999</td>\n",
       "      <td>79.029999</td>\n",
       "      <td>65.795525</td>\n",
       "      <td>14597900</td>\n",
       "      <td>78.632857</td>\n",
       "      <td>74.06350</td>\n",
       "    </tr>\n",
       "    <tr>\n",
       "      <th>2019-03-01</th>\n",
       "      <td>79.379997</td>\n",
       "      <td>80.000000</td>\n",
       "      <td>79.029999</td>\n",
       "      <td>80.000000</td>\n",
       "      <td>66.603081</td>\n",
       "      <td>15419400</td>\n",
       "      <td>78.842857</td>\n",
       "      <td>74.32125</td>\n",
       "    </tr>\n",
       "    <tr>\n",
       "      <th>2019-03-04</th>\n",
       "      <td>80.239998</td>\n",
       "      <td>80.550003</td>\n",
       "      <td>79.010002</td>\n",
       "      <td>80.309998</td>\n",
       "      <td>66.861168</td>\n",
       "      <td>18089900</td>\n",
       "      <td>79.198571</td>\n",
       "      <td>74.61350</td>\n",
       "    </tr>\n",
       "    <tr>\n",
       "      <th>2019-03-05</th>\n",
       "      <td>80.120003</td>\n",
       "      <td>80.400002</td>\n",
       "      <td>79.750000</td>\n",
       "      <td>80.190002</td>\n",
       "      <td>66.761269</td>\n",
       "      <td>13745500</td>\n",
       "      <td>79.451429</td>\n",
       "      <td>74.83950</td>\n",
       "    </tr>\n",
       "    <tr>\n",
       "      <th>2019-03-06</th>\n",
       "      <td>78.849998</td>\n",
       "      <td>79.379997</td>\n",
       "      <td>77.860001</td>\n",
       "      <td>79.279999</td>\n",
       "      <td>66.003654</td>\n",
       "      <td>18633600</td>\n",
       "      <td>79.562858</td>\n",
       "      <td>75.03350</td>\n",
       "    </tr>\n",
       "  </tbody>\n",
       "</table>\n",
       "</div>"
      ],
      "text/plain": [
       "                 Open       High        Low      Close  Adj Close    Volume  \\\n",
       "Date                                                                          \n",
       "2019-02-28  79.449997  79.750000  78.709999  79.029999  65.795525  14597900   \n",
       "2019-03-01  79.379997  80.000000  79.029999  80.000000  66.603081  15419400   \n",
       "2019-03-04  80.239998  80.550003  79.010002  80.309998  66.861168  18089900   \n",
       "2019-03-05  80.120003  80.400002  79.750000  80.190002  66.761269  13745500   \n",
       "2019-03-06  78.849998  79.379997  77.860001  79.279999  66.003654  18633600   \n",
       "\n",
       "                  MA7      MA40  \n",
       "Date                             \n",
       "2019-02-28  78.632857  74.06350  \n",
       "2019-03-01  78.842857  74.32125  \n",
       "2019-03-04  79.198571  74.61350  \n",
       "2019-03-05  79.451429  74.83950  \n",
       "2019-03-06  79.562858  75.03350  "
      ]
     },
     "execution_count": 105,
     "metadata": {},
     "output_type": "execute_result"
    }
   ],
   "source": [
    "xom = pd.read_csv('data/XOM.csv', index_col='Date')\n",
    "xom['MA7'] = xom['Close'].rolling(7).mean()\n",
    "xom['MA40'] = xom['Close'].rolling(40).mean()\n",
    "xom = xom.dropna()\n",
    "xom.head()"
   ]
  },
  {
   "cell_type": "code",
   "execution_count": 106,
   "id": "1b2d38ff-7e92-41ed-ba6f-4ab925f2ab67",
   "metadata": {},
   "outputs": [],
   "source": [
    "xom['Shares'] = [1 if xom.loc[ei, 'MA7']>xom.loc[ei, 'MA40'] else 0 for ei in xom.index]"
   ]
  },
  {
   "cell_type": "code",
   "execution_count": 107,
   "id": "3fa70d18-1134-4da1-93e8-cfb2dae76171",
   "metadata": {},
   "outputs": [
    {
     "data": {
      "text/plain": [
       "<matplotlib.lines.Line2D at 0x7f54b9b78c90>"
      ]
     },
     "execution_count": 107,
     "metadata": {},
     "output_type": "execute_result"
    },
    {
     "data": {
      "image/png": "[encoded data removed]",
      "text/plain": [
       "<Figure size 432x288 with 1 Axes>"
      ]
     },
     "metadata": {
      "needs_background": "light"
     },
     "output_type": "display_data"
    }
   ],
   "source": [
    "xom['Close1'] = xom['Close'].shift(-1)\n",
    "xom['Profit'] = [xom.loc[ei, 'Close1'] - xom.loc[ei, 'Close'] if xom.loc[ei, 'Shares']==1 else 0 for ei in xom.index]\n",
    "xom['Profit'].plot()\n",
    "plt.axhline(y=0, color='red')"
   ]
  },
  {
   "cell_type": "code",
   "execution_count": 108,
   "id": "f44b4a50-a96b-4cc1-b64d-78ccb5ff1956",
   "metadata": {},
   "outputs": [
    {
     "data": {
      "text/html": [
       "<div>\n",
       "<style scoped>\n",
       "    .dataframe tbody tr th:only-of-type {\n",
       "        vertical-align: middle;\n",
       "    }\n",
       "\n",
       "    .dataframe tbody tr th {\n",
       "        vertical-align: top;\n",
       "    }\n",
       "\n",
       "    .dataframe thead th {\n",
       "        text-align: right;\n",
       "    }\n",
       "</style>\n",
       "<table border=\"1\" class=\"dataframe\">\n",
       "  <thead>\n",
       "    <tr style=\"text-align: right;\">\n",
       "      <th></th>\n",
       "      <th>Open</th>\n",
       "      <th>High</th>\n",
       "      <th>Low</th>\n",
       "      <th>Close</th>\n",
       "      <th>Adj Close</th>\n",
       "      <th>Volume</th>\n",
       "      <th>MA7</th>\n",
       "      <th>MA40</th>\n",
       "      <th>Shares</th>\n",
       "      <th>Close1</th>\n",
       "      <th>Profit</th>\n",
       "      <th>wealth</th>\n",
       "    </tr>\n",
       "    <tr>\n",
       "      <th>Date</th>\n",
       "      <th></th>\n",
       "      <th></th>\n",
       "      <th></th>\n",
       "      <th></th>\n",
       "      <th></th>\n",
       "      <th></th>\n",
       "      <th></th>\n",
       "      <th></th>\n",
       "      <th></th>\n",
       "      <th></th>\n",
       "      <th></th>\n",
       "      <th></th>\n",
       "    </tr>\n",
       "  </thead>\n",
       "  <tbody>\n",
       "    <tr>\n",
       "      <th>2022-02-18</th>\n",
       "      <td>77.160004</td>\n",
       "      <td>78.169998</td>\n",
       "      <td>76.889999</td>\n",
       "      <td>77.360001</td>\n",
       "      <td>77.360001</td>\n",
       "      <td>23394800</td>\n",
       "      <td>78.480000</td>\n",
       "      <td>72.70100</td>\n",
       "      <td>1</td>\n",
       "      <td>76.459999</td>\n",
       "      <td>-0.900002</td>\n",
       "      <td>24.880002</td>\n",
       "    </tr>\n",
       "    <tr>\n",
       "      <th>2022-02-22</th>\n",
       "      <td>79.669998</td>\n",
       "      <td>79.790001</td>\n",
       "      <td>75.309998</td>\n",
       "      <td>76.459999</td>\n",
       "      <td>76.459999</td>\n",
       "      <td>35947800</td>\n",
       "      <td>78.225714</td>\n",
       "      <td>73.08700</td>\n",
       "      <td>1</td>\n",
       "      <td>76.769997</td>\n",
       "      <td>0.309998</td>\n",
       "      <td>25.190000</td>\n",
       "    </tr>\n",
       "    <tr>\n",
       "      <th>2022-02-23</th>\n",
       "      <td>76.459999</td>\n",
       "      <td>77.470001</td>\n",
       "      <td>76.129997</td>\n",
       "      <td>76.769997</td>\n",
       "      <td>76.769997</td>\n",
       "      <td>25385000</td>\n",
       "      <td>77.734286</td>\n",
       "      <td>73.45900</td>\n",
       "      <td>1</td>\n",
       "      <td>75.800003</td>\n",
       "      <td>-0.969994</td>\n",
       "      <td>24.220006</td>\n",
       "    </tr>\n",
       "    <tr>\n",
       "      <th>2022-02-24</th>\n",
       "      <td>79.000000</td>\n",
       "      <td>79.029999</td>\n",
       "      <td>74.029999</td>\n",
       "      <td>75.800003</td>\n",
       "      <td>75.800003</td>\n",
       "      <td>46199900</td>\n",
       "      <td>77.280000</td>\n",
       "      <td>73.81175</td>\n",
       "      <td>1</td>\n",
       "      <td>77.839996</td>\n",
       "      <td>2.039993</td>\n",
       "      <td>26.259999</td>\n",
       "    </tr>\n",
       "    <tr>\n",
       "      <th>2022-02-25</th>\n",
       "      <td>76.690002</td>\n",
       "      <td>77.989998</td>\n",
       "      <td>76.260002</td>\n",
       "      <td>77.839996</td>\n",
       "      <td>77.839996</td>\n",
       "      <td>28310300</td>\n",
       "      <td>77.258571</td>\n",
       "      <td>74.22900</td>\n",
       "      <td>1</td>\n",
       "      <td>NaN</td>\n",
       "      <td>NaN</td>\n",
       "      <td>NaN</td>\n",
       "    </tr>\n",
       "  </tbody>\n",
       "</table>\n",
       "</div>"
      ],
      "text/plain": [
       "                 Open       High        Low      Close  Adj Close    Volume  \\\n",
       "Date                                                                          \n",
       "2022-02-18  77.160004  78.169998  76.889999  77.360001  77.360001  23394800   \n",
       "2022-02-22  79.669998  79.790001  75.309998  76.459999  76.459999  35947800   \n",
       "2022-02-23  76.459999  77.470001  76.129997  76.769997  76.769997  25385000   \n",
       "2022-02-24  79.000000  79.029999  74.029999  75.800003  75.800003  46199900   \n",
       "2022-02-25  76.690002  77.989998  76.260002  77.839996  77.839996  28310300   \n",
       "\n",
       "                  MA7      MA40  Shares     Close1    Profit     wealth  \n",
       "Date                                                                     \n",
       "2022-02-18  78.480000  72.70100       1  76.459999 -0.900002  24.880002  \n",
       "2022-02-22  78.225714  73.08700       1  76.769997  0.309998  25.190000  \n",
       "2022-02-23  77.734286  73.45900       1  75.800003 -0.969994  24.220006  \n",
       "2022-02-24  77.280000  73.81175       1  77.839996  2.039993  26.259999  \n",
       "2022-02-25  77.258571  74.22900       1        NaN       NaN        NaN  "
      ]
     },
     "execution_count": 108,
     "metadata": {},
     "output_type": "execute_result"
    }
   ],
   "source": [
    "xom['wealth'] = xom['Profit'].cumsum()\n",
    "xom.tail()"
   ]
  },
  {
   "cell_type": "code",
   "execution_count": 109,
   "id": "d99a103b-15f9-455f-87de-b3f3900d4d28",
   "metadata": {},
   "outputs": [
    {
     "data": {
      "text/plain": [
       "Text(0.5, 1.0, 'Total money gain is 26.259998999999972')"
      ]
     },
     "execution_count": 109,
     "metadata": {},
     "output_type": "execute_result"
    },
    {
     "data": {
      "image/png": "[encoded data removed]",
      "text/plain": [
       "<Figure size 432x288 with 1 Axes>"
      ]
     },
     "metadata": {
      "needs_background": "light"
     },
     "output_type": "display_data"
    }
   ],
   "source": [
    "xom['wealth'].plot()\n",
    "plt.title('Total money gain is {}'.format(xom.loc[xom.index[-2], 'wealth']))"
   ]
  }
 ],
 "metadata": {
  "environment": {
   "kernel": "python3",
   "name": "common-cpu.m91",
   "type": "gcloud",
   "uri": "gcr.io/deeplearning-platform-release/base-cpu:m91"
  },
  "kernelspec": {
   "display_name": "Python 3",
   "language": "python",
   "name": "python3"
  },
  "language_info": {
   "codemirror_mode": {
    "name": "ipython",
    "version": 3
   },
   "file_extension": ".py",
   "mimetype": "text/x-python",
   "name": "python",
   "nbconvert_exporter": "python",
   "pygments_lexer": "ipython3",
   "version": "3.7.12"
  }
 },
 "nbformat": 4,
 "nbformat_minor": 5
}
